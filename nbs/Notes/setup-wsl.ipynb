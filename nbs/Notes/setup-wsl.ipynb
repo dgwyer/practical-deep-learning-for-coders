{
 "cells": [
  {
   "cell_type": "markdown",
   "id": "4efa3e24-4049-4b35-a418-e5190c20dcf5",
   "metadata": {},
   "source": [
    "# How to setup WSL in Windows for ML"
   ]
  },
  {
   "cell_type": "markdown",
   "id": "c6349749-6724-4046-a694-124a193b8ff4",
   "metadata": {},
   "source": [
    "This is my guide for setting up WSL in Windows 10 for ML. It's based on the [Live coding 1](https://www.youtube.com/watch?v=56sIyFjihEc) video. The installation process may differ slightly in Windows 11."
   ]
  },
  {
   "cell_type": "markdown",
   "id": "f6dfc00a",
   "metadata": {},
   "source": [
    "It's now recommended to use Miniconda3 to install Conda and manage your packages (e.g. Jupyter Lab, PyTorch, Pandas). We can just use Conda now instead of Mamba. This is because Miniconda3 now supports libmamba solver, so using Conda is just as fast as Mamba!"
   ]
  },
  {
   "cell_type": "markdown",
   "id": "0631c61b-29db-4c20-9715-3ff999bae81b",
   "metadata": {},
   "source": [
    "# Introduction"
   ]
  },
  {
   "cell_type": "markdown",
   "id": "de05cf13-fa0a-4625-b3ae-0438e261ec0f",
   "metadata": {},
   "source": [
    "I'll be using the Windows Terminal app in this guide as Jeremy recommends in the video. The primary way I'll be accessing WSL is via the Ubuntu tab in Terminal.\n",
    "\n",
    "By default, when you open a new tab in Terminal it will open PowerShell. If you'll be using Ubuntu as your main Terminal shell then you can change the default settings to open Ubuntu by default instead if you prefer."
   ]
  },
  {
   "cell_type": "markdown",
   "id": "37d519dc",
   "metadata": {},
   "source": [
    "# Where to install packages"
   ]
  },
  {
   "cell_type": "markdown",
   "id": "2e8d15ad",
   "metadata": {},
   "source": [
    "It's recommended that you use the home directory to contain all your project files, and to install the required packages. This makes it really easy to keep everything self contained between the users on your system.\n",
    "\n",
    "So, for instance if you wanted to completely delete everything for a particular user and start again, just delete the contents of the `miniconda3` directory and reinstall the packages as necessary."
   ]
  },
  {
   "cell_type": "markdown",
   "id": "0d58e63e",
   "metadata": {},
   "source": [
    "# Miniconda Installation"
   ]
  },
  {
   "cell_type": "markdown",
   "id": "79ff8fef",
   "metadata": {},
   "source": [
    "Create a `downloads` folder in your home directory and download the Miniconda installer file. Make sure to check that this is the [right installer](https://docs.conda.io/projects/miniconda/en/latest/) for your Windows machine.\n",
    "\n",
    "```\n",
    "mkdir downloads\n",
    "wget https://repo.anaconda.com/miniconda/Miniconda3-latest-Linux-x86_64.sh\n",
    "```\n",
    "\n",
    "Once it has downloaded, `cd` into the `downloads` folder and run the installer script. Here were executing the script using the `bash` shell as that is the default for Ubuntu in WSL.\n",
    "\n",
    "Replace the filename with your particular installer file, if different.\n",
    "\n",
    "`bash Miniconda3-latest-Linux-x86_64.sh`\n",
    "\n",
    "Follow the prompts to install Miniconda in your home directory. When asked if you wish to to update your shell profile to automatically initialize conda, select yes. Restart your terminal.\n",
    "\n",
    "If this all works properly then you'll see your terminal prompt prefixed with `(base)`. This shows that you have a Python environment running."
   ]
  },
  {
   "cell_type": "markdown",
   "id": "b2d5fd99-ce1d-4fb0-a3d0-8954abe8a739",
   "metadata": {},
   "source": [
    "# Automating the installation"
   ]
  },
  {
   "cell_type": "markdown",
   "id": "415ad6c9-d7a7-45c2-81c4-fbd1ae6a05dd",
   "metadata": {},
   "source": [
    "You can also complete the above steps via an automated [bash script](https://github.com/fastai/fastsetup/blob/master/setup-conda.sh) if you prefer. This works for all operating systems, not just WSL (i.e. Linux) for Windows.\n",
    "\n",
    "I tried this on Windows 11 and it installed perfectly, first time without any issues."
   ]
  },
  {
   "cell_type": "markdown",
   "id": "26c33d1c",
   "metadata": {},
   "source": [
    "## Trouble shooting"
   ]
  },
  {
   "cell_type": "markdown",
   "id": "c6c526e5",
   "metadata": {},
   "source": [
    "On my machine I had a couple of issues which I'll mention in case anyone has similar issues.\n",
    "\n",
    "- For some reason, after installing Miniconda and restarting my terminal, nothing seemed to be working. There was no active Python environment, and even running `conda --version` resulted in a file not found error. I found that I had to run `source ~/.bashrc` for each new terminal session (each new tab opened).\n",
    "- This worked fine when entered directly in the terminal for each new session but is a little tedious. So I added it to the `.bashrc` file in the home directory so it would run automatically when a new terminal session begins.\n",
    "- This led to another issue where the source configuration file (in my case) that runs on each new terminal session is `.bash_profile` and **not** `.bashrc`. However, this was easily fixed by making sure that `.bashrc` commands run on each new session. Just add this to `.bash_profile`: `[[ -f ~/.bashrc ]] && source ~/.bashrc`\n"
   ]
  },
  {
   "cell_type": "markdown",
   "id": "0f58abc9",
   "metadata": {},
   "source": [
    "# Installing Packages"
   ]
  },
  {
   "cell_type": "markdown",
   "id": "86f93a98",
   "metadata": {},
   "source": [
    "This section covers how to install the following packages:\n",
    "- ipython\n",
    "- Pytorch\n",
    "- Jpyter Lab\n",
    "\n",
    "You can follow along with the commands Jeremy uses in the [video](https://youtu.be/56sIyFjihEc?t=3604) to install the required packages, but remember to use `conda install <package>` rather than `mamba install <package>`.\n",
    "\n",
    "You can install [Pytorch](https://pytorch.org/get-started/locally/) and [Jupyter Lab](https://jupyterlab.readthedocs.io/en/stable/getting_started/installation.html) this way."
   ]
  },
  {
   "cell_type": "markdown",
   "id": "116a9666",
   "metadata": {},
   "source": [
    "# Running Jupyter Lab"
   ]
  },
  {
   "cell_type": "markdown",
   "id": "ed61b689",
   "metadata": {},
   "source": [
    "Once you've installed Jupyter Lab let's go ahead and create a new notebook. It's a good idea to create a folder to store all notebooks so go ahead and create a folder and `cd` into it.\n",
    "\n",
    "From your home directory:\n",
    "\n",
    "`mkdir nbs`\n",
    "\n",
    "`cd nbs`\n",
    "\n",
    "Now open Jupyter Lab:\n",
    "\n",
    "`jupyter lab --no-browser`\n",
    "\n",
    "the `--no-browser` flag is required on WSL as by default the *Windows* browser application will be targeted which doesn't exist as WSL is using Linux. You can add an alias for this for convenience if you prefer with: `alias jl=\"jupyter lab --no-broswer\"`.\n",
    "\n",
    "Open the link that is provide in the console (Ctrl+Click is probably easiest) and you'll see a running version of Jupyter Lab!"
   ]
  },
  {
   "cell_type": "markdown",
   "id": "4c7c7017",
   "metadata": {},
   "source": [
    "## Trouble shooting"
   ]
  },
  {
   "cell_type": "markdown",
   "id": "a5968084",
   "metadata": {},
   "source": [
    "Initially I had an issue where Jupyer Lab was opening in the browser with a specifi workspace, and wasn't referencing the `nbs` directory.\n",
    "\n",
    "I managed to fix this by using `jupyter lab --LabApp.default_url='/lab' --no-browser` when launching Jupyter Lab. You should only have to use this once. From then on `jupyter lab --no-browser` should be fine. \n",
    "\n",
    "Update: Another thing to watch out for is when you might be running another local server. e.g. For web development. I started another local server (for WordPress development) and found that the Jupyter server stopped working and it took me a while to figure out why. Even just stopping the server did not work. I had to restart my computer before the Jupyter server started working properly again.\n",
    "\n",
    "This might be a Windows 10 specific issue. I haven't tried it yet on Windows 11."
   ]
  },
  {
   "cell_type": "markdown",
   "id": "2b9a149c",
   "metadata": {},
   "source": [
    "# Switching user"
   ]
  },
  {
   "cell_type": "markdown",
   "id": "b0679939",
   "metadata": {},
   "source": [
    "Here's how you can switch users in Ubuntu if needed.\n",
    "\n",
    "`sudo -u <username> -i`\n",
    "\n",
    "If you want to create a new user enter:\n",
    "\n",
    "`sudo useradd -m <username>`\n",
    "\n",
    "then enter a password when prompted."
   ]
  },
  {
   "cell_type": "markdown",
   "id": "3c464af6",
   "metadata": {},
   "source": [
    "# Useful terminal commands"
   ]
  },
  {
   "cell_type": "markdown",
   "id": "6cd36f45",
   "metadata": {},
   "source": [
    "If you press `ALT+Enter` this will toggle the Terminal window full screen mode. To open a new tab press `Ctrl+Shift+1`. And to toggle between tabs press `Ctrl+Tab`.\n",
    "\n",
    "`grep <username> /etc/passwd` - Will display some basic info if user exists.\n",
    "\n",
    "`sudo userdel -r <username>` - Delete a user.\n",
    "\n",
    "`whoami` - Display current user.\n",
    "\n",
    "`exit` - Exit current shell session.\n",
    "\n",
    "`echo $0` - Output the name of the current shell.\n",
    "\n",
    "`ls -a` - List files in the current directory, including hidden files.\n",
    "\n",
    "`which <name>` - Display the location of a program. e.g. `which python3`.\n",
    "\n",
    "`explorer.exe .` - Open the current shell directory in Windows Explorer.\n",
    "\n",
    "`pwd` - Output current working directory.\n",
    "\n",
    "`wget` - Download a file from the internet.\n",
    "\n",
    "`ls -lh` - List files in long form format. The `h` flag is for human readable form too, for file the sizes.\n",
    "\n",
    "`code .` - Open the current directory in VS Code."
   ]
  },
  {
   "cell_type": "markdown",
   "id": "87a9600a-4efb-49c9-b648-8b21a7a36427",
   "metadata": {},
   "source": [
    "# Conclusion"
   ]
  },
  {
   "cell_type": "markdown",
   "id": "e7c496ac-5eb8-40f7-8b1f-cce37a5975d0",
   "metadata": {},
   "source": [
    "I think it's really useful to be able to set up WSL for working with ML projects. However, if you need to have an existing local host server running then you may run into issues as I did above.\n",
    "\n",
    "There is probably a way around this in the terminal but I will need to look into it. In the meantime if I just need to quickly do some work on a notebook I can just use Anaconda Navigator which has no issues."
   ]
  },
  {
   "cell_type": "code",
   "execution_count": null,
   "id": "0ef90ca0-0550-4432-b037-f2c87d013d28",
   "metadata": {},
   "outputs": [],
   "source": []
  }
 ],
 "metadata": {
  "kernelspec": {
   "display_name": "Python 3 (ipykernel)",
   "language": "python",
   "name": "python3"
  },
  "language_info": {
   "codemirror_mode": {
    "name": "ipython",
    "version": 3
   },
   "file_extension": ".py",
   "mimetype": "text/x-python",
   "name": "python",
   "nbconvert_exporter": "python",
   "pygments_lexer": "ipython3",
   "version": "3.8.18"
  }
 },
 "nbformat": 4,
 "nbformat_minor": 5
}

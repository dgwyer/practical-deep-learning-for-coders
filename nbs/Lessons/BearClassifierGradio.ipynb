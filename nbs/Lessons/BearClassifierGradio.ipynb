{
 "cells": [
  {
   "cell_type": "code",
   "execution_count": 24,
   "id": "8aedfc55-d04e-456c-87f3-989b94c2dce8",
   "metadata": {
    "tags": []
   },
   "outputs": [],
   "source": [
    "#|default_exp app"
   ]
  },
  {
   "cell_type": "code",
   "execution_count": 25,
   "id": "a5621692-b515-45ca-ba4c-f02b74e07f60",
   "metadata": {
    "tags": []
   },
   "outputs": [],
   "source": [
    "!pip install gradio nbdev -q"
   ]
  },
  {
   "cell_type": "code",
   "execution_count": 26,
   "id": "87d2c3b8-47ab-46c0-9305-b764443d18c7",
   "metadata": {
    "tags": []
   },
   "outputs": [],
   "source": [
    "!pip install -Uqq fastbook"
   ]
  },
  {
   "cell_type": "code",
   "execution_count": 27,
   "id": "9caa2fb0-2e5a-418a-ad09-2b883a7e0444",
   "metadata": {
    "tags": []
   },
   "outputs": [],
   "source": [
    "import nbdev"
   ]
  },
  {
   "cell_type": "code",
   "execution_count": 28,
   "id": "b8e824c5-e816-4cab-b0ed-b87570c73729",
   "metadata": {
    "tags": []
   },
   "outputs": [],
   "source": [
    "#|export\n",
    "# importing dependencies\n",
    "from fastai.vision.all import *\n",
    "import gradio as gr"
   ]
  },
  {
   "cell_type": "code",
   "execution_count": 29,
   "id": "4a057840-7474-4648-af2f-82beeaa2ecc1",
   "metadata": {
    "tags": []
   },
   "outputs": [],
   "source": [
    "#|export\n",
    "# creating inference\n",
    "learn = load_learner('model.pkl')"
   ]
  },
  {
   "cell_type": "code",
   "execution_count": 30,
   "id": "4f17b4f3-753f-44ea-b48c-609e9bcda3d7",
   "metadata": {
    "tags": []
   },
   "outputs": [],
   "source": [
    "#|export\n",
    "categories = ('Black', 'Grizzly', 'Teddy')\n",
    "\n",
    "def classify_image(img):\n",
    "  pred, idx, probs = learn.predict(img)\n",
    "  return dict(zip(categories, map(float, probs)))"
   ]
  },
  {
   "cell_type": "code",
   "execution_count": 31,
   "id": "079d1342-b035-4d43-aab2-7fe112280d1d",
   "metadata": {
    "tags": []
   },
   "outputs": [
    {
     "name": "stdout",
     "output_type": "stream",
     "text": [
      "Running on local URL:  http://127.0.0.1:7862\n",
      "\n",
      "To create a public link, set `share=True` in `launch()`.\n"
     ]
    },
    {
     "data": {
      "text/html": [
       "<div><iframe src=\"http://127.0.0.1:7862/\" width=\"100%\" height=\"500\" allow=\"autoplay; camera; microphone; clipboard-read; clipboard-write;\" frameborder=\"0\" allowfullscreen></iframe></div>"
      ],
      "text/plain": [
       "<IPython.core.display.HTML object>"
      ]
     },
     "metadata": {},
     "output_type": "display_data"
    }
   ],
   "source": [
    "#|export\n",
    "# gradio interface Setup\n",
    "image = gr.Image()\n",
    "label = gr.Label()\n",
    "examples = ['sample1.jpg', 'sample2.jpg', 'sample3.jpg']\n",
    "\n",
    "intf = gr.Interface(fn = classify_image, inputs = image, outputs = label, examples = examples).launch()"
   ]
  },
  {
   "cell_type": "code",
   "execution_count": 33,
   "id": "ab2b8b65-6ca8-4ddf-9bfc-c0eb3a789a94",
   "metadata": {
    "tags": []
   },
   "outputs": [],
   "source": [
    "nbdev.export.nb_export('BearClassifierGradio.ipynb', './')"
   ]
  },
  {
   "cell_type": "code",
   "execution_count": null,
   "id": "7192e8c0-eec1-4aba-aed3-e71af49d76be",
   "metadata": {},
   "outputs": [],
   "source": []
  }
 ],
 "metadata": {
  "kernelspec": {
   "display_name": "Python 3 (ipykernel)",
   "language": "python",
   "name": "python3"
  },
  "language_info": {
   "codemirror_mode": {
    "name": "ipython",
    "version": 3
   },
   "file_extension": ".py",
   "mimetype": "text/x-python",
   "name": "python",
   "nbconvert_exporter": "python",
   "pygments_lexer": "ipython3",
   "version": "3.11.7"
  }
 },
 "nbformat": 4,
 "nbformat_minor": 5
}
